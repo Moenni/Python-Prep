{
 "cells": [
  {
   "cell_type": "code",
   "execution_count": 1,
   "id": "8d08d2c1",
   "metadata": {},
   "outputs": [],
   "source": [
    "import unittest"
   ]
  },
  {
   "cell_type": "code",
   "execution_count": 2,
   "id": "ab1a3fd8",
   "metadata": {},
   "outputs": [],
   "source": [
    "def suma(num_1,num_2):\n",
    "    return num_1+num_2"
   ]
  },
  {
   "cell_type": "code",
   "execution_count": null,
   "id": "10848de0",
   "metadata": {},
   "outputs": [],
   "source": [
    "class CajaNegraTest(unittest.TestCase): #PRUEBAS CON CAJA NEGRA\n",
    "    def test_suma_dospositivos(self):\n",
    "        num_1=10\n",
    "        num_2=15\n",
    "\n",
    "        resultado=suma(num_1,num_2)\n",
    "        self.assertEqual(resultado,25)\n",
    "        \n",
    "    def test_suma_dosnegativos(self):\n",
    "        num_1=-10\n",
    "        num_2=-7\n",
    "        \n",
    "        resultado= suma(num_1,num_2)\n",
    "        self.assertEqual(resultado,-17)"
   ]
  },
  {
   "cell_type": "code",
   "execution_count": 6,
   "id": "e98418a9",
   "metadata": {},
   "outputs": [],
   "source": [
    "#unittest.main(argv=[\"\"],verbosity=2,exit=False)\n",
    "#test_suma_dospositivos(__main__.CajaNegraTest)\n",
    "#test_suma_dosnegativos(__main__.CajaNegraTest)"
   ]
  },
  {
   "cell_type": "code",
   "execution_count": 7,
   "id": "c168dff3",
   "metadata": {},
   "outputs": [],
   "source": [
    "def es_mayor_de_edad(edad):\n",
    "    if edad>18:\n",
    "        return True\n",
    "    else:\n",
    "        return False"
   ]
  },
  {
   "cell_type": "code",
   "execution_count": null,
   "id": "9305a3bf",
   "metadata": {},
   "outputs": [],
   "source": [
    "class PruebaDeCristalTest(unittest.TestCase): #PRUEBAS CON CAJA DE CRISTAL\n",
    "    def test_es_mayor_de_edad(self):\n",
    "        edad=20\n",
    "        \n",
    "        resultado=es_mayor_de_edad(20)\n",
    "        self.assertEqual(resultado,True)\n",
    "    \n",
    "    def test_es_menor_de_edad(self):\n",
    "        edad=15\n",
    "        \n",
    "        resultado= es_mayor_de_edad(edad)\n",
    "        self.assertEqual(resultado,False)"
   ]
  },
  {
   "cell_type": "code",
   "execution_count": 11,
   "id": "88e31a6e",
   "metadata": {},
   "outputs": [],
   "source": [
    "#unittest.main(argv=[\"\"],verbosity=2,exit=False)\n"
   ]
  },
  {
   "cell_type": "code",
   "execution_count": 15,
   "id": "e8a7f4bb",
   "metadata": {},
   "outputs": [],
   "source": [
    "def multiplica_por_dos(lista):\n",
    "    for num in lista:\n",
    "        lista_multiplicada.append(num*2)\n",
    "    return lista_multiplicada"
   ]
  },
  {
   "cell_type": "code",
   "execution_count": 14,
   "id": "f33c336d",
   "metadata": {},
   "outputs": [
    {
     "name": "stdout",
     "output_type": "stream",
     "text": [
      "[2, 4, 6, 8, 10]\n"
     ]
    }
   ],
   "source": [
    "numeros= [1,2,3,4,5]\n",
    "resultado= multiplica_por_dos(numeros)\n",
    "print(resultado)"
   ]
  },
  {
   "cell_type": "code",
   "execution_count": null,
   "id": "1bc6d052",
   "metadata": {},
   "outputs": [],
   "source": [
    "def multiplica_por_dos(lista): #DEBUGGIN CORRIJIENDO EL ERROR DE LISTA_MULTIPLICADA NO DEFINIDA\n",
    "    lista_multiplicada=[]\n",
    "    for num in lista:\n",
    "        lista_multiplicada.append(num*2)\n",
    "    return lista_multiplicada"
   ]
  },
  {
   "cell_type": "code",
   "execution_count": 16,
   "id": "29f03172",
   "metadata": {},
   "outputs": [],
   "source": [
    "def divide_elementos_de_lista(lista,divisor):\n",
    "    \"\"\"\n",
    "    Cada elemento de una lista es dividida por un divisor definido.\n",
    "    En caso de error del tipo ZeroDivisionEror que significa \n",
    "    error al dividir en cero, la funcion devuelve la lista inicial\n",
    "    \"\"\"\n",
    "    \n",
    "    try:\n",
    "        return [i/divisor for i in lista]\n",
    "    except ZeroDivisionError as e:\n",
    "       print(e)\n",
    "    return lista"
   ]
  },
  {
   "cell_type": "code",
   "execution_count": null,
   "id": "0fbabb55",
   "metadata": {},
   "outputs": [
    {
     "name": "stdout",
     "output_type": "stream",
     "text": [
      "division by zero\n",
      "[0, 1, 2, 3, 4, 5, 6, 7, 8, 9]\n"
     ]
    }
   ],
   "source": [
    "lista=list(range(10)) #probando la division con cero , no corta la ejecucion pero si informa la excepcion\n",
    "divisor =0\n",
    "\n",
    "print(divide_elementos_de_lista(lista,divisor))\n"
   ]
  },
  {
   "cell_type": "code",
   "execution_count": null,
   "id": "89fbe7f4",
   "metadata": {},
   "outputs": [],
   "source": [
    "    \"\"\"\n",
    "    try:\n",
    "        #Codigo que puede generar una excepcion \n",
    "      \n",
    "    excep  ExecptionType:\n",
    "        #Codigo que maneja una excepcion\n",
    "    \n",
    "    \"\"\""
   ]
  },
  {
   "cell_type": "code",
   "execution_count": 18,
   "id": "312d8215",
   "metadata": {},
   "outputs": [],
   "source": [
    "def dividir(num1,num2):\n",
    "    try:\n",
    "        resultado= num1/num2\n",
    "        return resultado\n",
    "    except ZeroDivisionError:   \n",
    "        print('No se puede dividir un numero por 0')\n",
    "        return None"
   ]
  },
  {
   "cell_type": "code",
   "execution_count": 19,
   "id": "3d951317",
   "metadata": {},
   "outputs": [
    {
     "name": "stdout",
     "output_type": "stream",
     "text": [
      "No se puede dividir un numero por 0\n"
     ]
    }
   ],
   "source": [
    "dividir(18,0)"
   ]
  },
  {
   "cell_type": "code",
   "execution_count": null,
   "id": "d5d1213e",
   "metadata": {},
   "outputs": [
    {
     "name": "stdout",
     "output_type": "stream",
     "text": [
      "El archivo no existe\n"
     ]
    }
   ],
   "source": [
    "try:  #PRINCIPIO DE E.A.F.P primero intenta acceder al archivo y si no existe captura la excepcion\n",
    "    with open('archivo.txt','r') as f:\n",
    "        contenido =f.read()\n",
    "except FileNotFoundError:\n",
    "    print('El archivo no existe')"
   ]
  },
  {
   "cell_type": "code",
   "execution_count": 21,
   "id": "f3b870f6",
   "metadata": {},
   "outputs": [
    {
     "name": "stdout",
     "output_type": "stream",
     "text": [
      "La clave no existe en el diccionario\n"
     ]
    }
   ],
   "source": [
    "paises= {'Mexico': 'MX', 'Estados Unidos':'US','Canada':'CA'}\n",
    "\n",
    "try:\n",
    "    codigo=paises['Argentina']\n",
    "except KeyError:\n",
    "    print('La clave no existe en el diccionario')"
   ]
  },
  {
   "cell_type": "code",
   "execution_count": null,
   "id": "17ac8c40",
   "metadata": {},
   "outputs": [],
   "source": [
    "#Afirmaciones en Python Assersion\n",
    "\n",
    "assert condicion, mensaje_de_error"
   ]
  },
  {
   "cell_type": "code",
   "execution_count": 22,
   "id": "4237362a",
   "metadata": {},
   "outputs": [],
   "source": [
    "def primera_letra(lista_de_palabras):\n",
    "    primeras_letras=[]\n",
    "    for palabra in lista_de_palabras:\n",
    "        assert type(palabra)==str,f'{palabra} no es str'\n",
    "        assert len(palabra)>0 , 'No se permiten str vacios'\n",
    "        \n",
    "        primeras_letras.append(palabra[0])\n",
    "        \n",
    "    return primeras_letras"
   ]
  },
  {
   "cell_type": "code",
   "execution_count": 25,
   "id": "e8f55b45",
   "metadata": {},
   "outputs": [
    {
     "ename": "AssertionError",
     "evalue": "15 no es str",
     "output_type": "error",
     "traceback": [
      "\u001b[31m---------------------------------------------------------------------------\u001b[39m",
      "\u001b[31mAssertionError\u001b[39m                            Traceback (most recent call last)",
      "\u001b[36mCell\u001b[39m\u001b[36m \u001b[39m\u001b[32mIn[25]\u001b[39m\u001b[32m, line 2\u001b[39m\n\u001b[32m      1\u001b[39m palabras=[\u001b[33m'\u001b[39m\u001b[33mhola\u001b[39m\u001b[33m'\u001b[39m,\u001b[33m'\u001b[39m\u001b[33mmundo\u001b[39m\u001b[33m'\u001b[39m,\u001b[32m15\u001b[39m]\n\u001b[32m----> \u001b[39m\u001b[32m2\u001b[39m \u001b[43mprimera_letra\u001b[49m\u001b[43m(\u001b[49m\u001b[43mpalabras\u001b[49m\u001b[43m)\u001b[49m\n",
      "\u001b[36mCell\u001b[39m\u001b[36m \u001b[39m\u001b[32mIn[22]\u001b[39m\u001b[32m, line 4\u001b[39m, in \u001b[36mprimera_letra\u001b[39m\u001b[34m(lista_de_palabras)\u001b[39m\n\u001b[32m      2\u001b[39m primeras_letras=[]\n\u001b[32m      3\u001b[39m \u001b[38;5;28;01mfor\u001b[39;00m palabra \u001b[38;5;129;01min\u001b[39;00m lista_de_palabras:\n\u001b[32m----> \u001b[39m\u001b[32m4\u001b[39m     \u001b[38;5;28;01massert\u001b[39;00m \u001b[38;5;28mtype\u001b[39m(palabra)==\u001b[38;5;28mstr\u001b[39m,\u001b[33mf\u001b[39m\u001b[33m'\u001b[39m\u001b[38;5;132;01m{\u001b[39;00mpalabra\u001b[38;5;132;01m}\u001b[39;00m\u001b[33m no es str\u001b[39m\u001b[33m'\u001b[39m\n\u001b[32m      5\u001b[39m     \u001b[38;5;28;01massert\u001b[39;00m \u001b[38;5;28mlen\u001b[39m(palabra)>\u001b[32m0\u001b[39m , \u001b[33m'\u001b[39m\u001b[33mNo se permiten str vacios\u001b[39m\u001b[33m'\u001b[39m\n\u001b[32m      7\u001b[39m     primeras_letras.append(palabra[\u001b[32m0\u001b[39m])\n",
      "\u001b[31mAssertionError\u001b[39m: 15 no es str"
     ]
    }
   ],
   "source": [
    "palabras=['hola','mundo',15]\n",
    "primera_letra(palabras)"
   ]
  }
 ],
 "metadata": {
  "kernelspec": {
   "display_name": "Python 3",
   "language": "python",
   "name": "python3"
  },
  "language_info": {
   "codemirror_mode": {
    "name": "ipython",
    "version": 3
   },
   "file_extension": ".py",
   "mimetype": "text/x-python",
   "name": "python",
   "nbconvert_exporter": "python",
   "pygments_lexer": "ipython3",
   "version": "3.13.7"
  }
 },
 "nbformat": 4,
 "nbformat_minor": 5
}
