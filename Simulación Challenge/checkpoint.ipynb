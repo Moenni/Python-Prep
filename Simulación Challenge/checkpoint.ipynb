{
 "cells": [
  {
   "cell_type": "code",
   "execution_count": 6,
   "id": "2836c261",
   "metadata": {},
   "outputs": [],
   "source": [
    "def Factorial(numero):\n",
    "    '''\n",
    "    Esta función devuelve el factorial del número pasado como parámetro.\n",
    "    En caso de que no sea de tipo entero y/o sea menor que 1, debe retornar nulo.\n",
    "    Recibe un argumento:\n",
    "        numero: Será el número con el que se calcule el factorial\n",
    "    Ej:\n",
    "        Factorial(4) debe retornar 24\n",
    "        Factorial(-2) debe retornar nulo\n",
    "    '''\n",
    "    #Tu código aca:\n",
    "    if not isinstance(numero,int) or numero<1:\n",
    "        return None\n",
    "    #inicializamos el resultado en 1\n",
    "    resultado=1\n",
    "    #calculamos el factorial iterativamente\n",
    "    for i in range(1,numero+1):\n",
    "        resultado*=i\n",
    "        \n",
    "    return resultado"
   ]
  },
  {
   "cell_type": "code",
   "execution_count": 7,
   "id": "a5c88f3c",
   "metadata": {},
   "outputs": [
    {
     "name": "stdout",
     "output_type": "stream",
     "text": [
      "24\n"
     ]
    }
   ],
   "source": [
    "print(Factorial(4))"
   ]
  },
  {
   "cell_type": "code",
   "execution_count": 8,
   "id": "4f8d4aa4",
   "metadata": {},
   "outputs": [],
   "source": [
    "def EsPrimo(valor):\n",
    "    '''\n",
    "    Esta función devuelve el valor booleano True si el número reibido como parámetro es primo, de lo \n",
    "    contrario devuelve False..\n",
    "    En caso de que el parámetro no sea de tipo entero debe retornar nulo.\n",
    "    Recibe un argumento:\n",
    "        valor: Será el número a evaluar\n",
    "    Ej:\n",
    "        EsPrimo(7) debe retornar True\n",
    "        EsPrimo(8) debe retornar False\n",
    "    '''\n",
    "    #Tu código aca:\n",
    "    if not isinstance(valor,int):\n",
    "        return None\n",
    "    #Los numeros menores o iguales a 1 no son primos\n",
    "    if valor<=1:\n",
    "        return False\n",
    "    #Verificamos si tiene divisores distintos de 1 y si mismo\n",
    "    for i in range(2,int(valor**0.5)+1):\n",
    "        if valor% i==0:\n",
    "            return False\n",
    "        \n",
    "    return True\n",
    "    "
   ]
  },
  {
   "cell_type": "code",
   "execution_count": 16,
   "id": "9999148e",
   "metadata": {},
   "outputs": [
    {
     "name": "stdout",
     "output_type": "stream",
     "text": [
      "True\n",
      "False\n",
      "False\n",
      "True\n",
      "None\n"
     ]
    }
   ],
   "source": [
    "print(EsPrimo(3))\n",
    "print(EsPrimo(8))\n",
    "print(EsPrimo(15))\n",
    "print(EsPrimo(233))\n",
    "print(EsPrimo(\"4543\"))\n"
   ]
  },
  {
   "cell_type": "code",
   "execution_count": 17,
   "id": "2149d4df",
   "metadata": {},
   "outputs": [],
   "source": [
    "def ClaseAnimal(especie, color):\n",
    "    '''\n",
    "    Esta función devuelve un objeto instanciado de la clase Animal, \n",
    "    la cual debe tener los siguientes atributos:\n",
    "        Edad    (Un valor de tipo de dato entero, que debe inicializarse en cero)\n",
    "        Especie (Un valor de tipo de dato string)\n",
    "        Color   (Un valor de tipo de dato string)\n",
    "    y debe tener el siguiente método:\n",
    "        CumplirAnios  (este método debe sumar uno al atributo Edad y debe devolver ese valor)\n",
    "    Recibe dos argumento:\n",
    "        especie: Dato que se asignará al atributo Especie del objeto de la clase Animal\n",
    "        color: Dato que se asignará al atributo Color del objeto de la clase Animal\n",
    "    Ej:\n",
    "        a = ClaseAnimal('perro','blanco')\n",
    "        a.CumpliAnios() -> debe devolver 1\n",
    "        a.CumpliAnios() -> debe devolver 2\n",
    "        a.CumpliAnios() -> debe devolver 3\n",
    "    '''\n",
    "    #Tu código aca:\n",
    "    #Definimos  la clase dentro de la funcion\n",
    "    class Animal:\n",
    "        def __init__(self,especie,color):\n",
    "            self.Edad=0\n",
    "            self.Especie=especie\n",
    "            self.Color=color\n",
    "        def CumpliAnios(self):\n",
    "            self.Edad+=1\n",
    "            return self.Edad\n",
    "    #Creamos y devolvemos la instancia\n",
    "    return Animal(especie,color)\n"
   ]
  },
  {
   "cell_type": "code",
   "execution_count": 30,
   "id": "e122b90d",
   "metadata": {},
   "outputs": [
    {
     "name": "stdout",
     "output_type": "stream",
     "text": [
      "0\n",
      "Soy un animal de tipo  {'perro'}  y hoy cumplo  {1}  años\n"
     ]
    }
   ],
   "source": [
    "a = ClaseAnimal('perro', 'blanco')\n",
    "print(a.Edad)\n",
    "print('Soy un animal de tipo ',{a.Especie}, ' y hoy cumplo ',{a.CumpliAnios()} ,' años'  )"
   ]
  }
 ],
 "metadata": {
  "kernelspec": {
   "display_name": "Python 3",
   "language": "python",
   "name": "python3"
  },
  "language_info": {
   "codemirror_mode": {
    "name": "ipython",
    "version": 3
   },
   "file_extension": ".py",
   "mimetype": "text/x-python",
   "name": "python",
   "nbconvert_exporter": "python",
   "pygments_lexer": "ipython3",
   "version": "3.13.7"
  }
 },
 "nbformat": 4,
 "nbformat_minor": 5
}
