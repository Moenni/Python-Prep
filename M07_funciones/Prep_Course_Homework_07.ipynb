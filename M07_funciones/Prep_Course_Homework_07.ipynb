{
 "cells": [
  {
   "attachments": {},
   "cell_type": "markdown",
   "metadata": {},
   "source": [
    "## Funciones"
   ]
  },
  {
   "attachments": {},
   "cell_type": "markdown",
   "metadata": {},
   "source": [
    "1) Crear una función que reciba un número como parámetro y devuelva True si es primo y False si no lo es"
   ]
  },
  {
   "cell_type": "code",
   "execution_count": 4,
   "metadata": {},
   "outputs": [],
   "source": [
    "def verifica_primo(nro):\n",
    "    if nro < 2:\n",
    "        print(f\"{nro} no es primo porque es menor que 2.\")\n",
    "        return False\n",
    "\n",
    "    print(f\"Verificando si {nro} es primo...\")\n",
    "    for i in range(2, nro):\n",
    "        print(f\"¿{nro} es divisible por {i}?\")\n",
    "        if nro % i == 0:\n",
    "            print(f\"Sí, {nro} es divisible por {i}. Entonces NO es primo.\")\n",
    "            return False\n",
    "        else:\n",
    "            print(f\"No, {nro} no es divisible por {i}. Seguimos buscando...\")\n",
    "\n",
    "    print(f\"No se encontró ningún divisor. {nro} ES primo.\")\n",
    "    return True\n"
   ]
  },
  {
   "cell_type": "code",
   "execution_count": 9,
   "metadata": {},
   "outputs": [
    {
     "name": "stdout",
     "output_type": "stream",
     "text": [
      "Verificando si 7 es primo...\n",
      "¿7 es divisible por 2?\n",
      "No, 7 no es divisible por 2. Seguimos buscando...\n",
      "¿7 es divisible por 3?\n",
      "No, 7 no es divisible por 3. Seguimos buscando...\n",
      "¿7 es divisible por 4?\n",
      "No, 7 no es divisible por 4. Seguimos buscando...\n",
      "¿7 es divisible por 5?\n",
      "No, 7 no es divisible por 5. Seguimos buscando...\n",
      "¿7 es divisible por 6?\n",
      "No, 7 no es divisible por 6. Seguimos buscando...\n",
      "No se encontró ningún divisor. 7 ES primo.\n"
     ]
    },
    {
     "data": {
      "text/plain": [
       "True"
      ]
     },
     "execution_count": 9,
     "metadata": {},
     "output_type": "execute_result"
    }
   ],
   "source": [
    "verifica_primo(7)"
   ]
  },
  {
   "attachments": {},
   "cell_type": "markdown",
   "metadata": {},
   "source": [
    "2) Utilizando la función del punto 1, realizar otra función que reciba de parámetro una lista de números y devuelva sólo aquellos que son primos en otra lista"
   ]
  },
  {
   "cell_type": "code",
   "execution_count": 2,
   "metadata": {},
   "outputs": [],
   "source": [
    "def verifica_primo(numero):\n",
    "    if numero < 2:\n",
    "       return False\n",
    "    for i in range(2, numero):\n",
    "        if numero % i == 0:\n",
    "            return False\n",
    "    return True\n",
    "def filtrar_primos(lista):\n",
    "    primos=[] # Lista para guardar los números primos\n",
    "\n",
    "    for numero in lista:\n",
    "        if verifica_primo(numero): # Usamos la función anterior\n",
    "            primos.append(numero) # Si es primo, lo agregamos\n",
    "    return primos # Devolvemos la lista de primos\n"
   ]
  },
  {
   "cell_type": "code",
   "execution_count": 6,
   "metadata": {},
   "outputs": [
    {
     "name": "stdout",
     "output_type": "stream",
     "text": [
      "Números primos encontrados: [3, 7, 13, 17, 47, 151]\n"
     ]
    }
   ],
   "source": [
    "numeros = [3, 4, 7, 10, 13, 15, 17, 20,21,33,47,55,69,151]\n",
    "resultado = filtrar_primos(numeros)\n",
    "print(\"Números primos encontrados:\", resultado)\n"
   ]
  },
  {
   "attachments": {},
   "cell_type": "markdown",
   "metadata": {},
   "source": [
    "3) Crear una función que al recibir una lista de números, devuelva el que más se repite y cuántas veces lo hace. Si hay más de un \"más repetido\", que devuelva cualquiera"
   ]
  },
  {
   "cell_type": "code",
   "execution_count": 10,
   "metadata": {},
   "outputs": [],
   "source": [
    "def mas_repetido(lista):\n",
    "    conteo={} # Diccionario para contar ocurrencias\n",
    "    for numero in lista:\n",
    "        if numero in conteo:\n",
    "            conteo[numero]= conteo[numero]+1 #se le suma 1 a la cantidad de veces que apareció\n",
    "        else:\n",
    "            conteo[numero]=1 #si no está en el diccionario, se agrega con valor 1\n",
    "            \n",
    "    max_repeticiones= max(conteo.values()) #buscamos la mayor cantidad de repeticiones\n",
    "    \n",
    "    # Filtramos los números que tienen esa cantidad máxima\n",
    "    candidatos= [num for num,rep in conteo.items()if rep==max_repeticiones]\n",
    "    \n",
    "    return candidatos[0], max_repeticiones # Devolvemos el primer número y la cantidad de repeticiones  "
   ]
  },
  {
   "cell_type": "code",
   "execution_count": 13,
   "metadata": {},
   "outputs": [
    {
     "name": "stdout",
     "output_type": "stream",
     "text": [
      "El número más repetido es 6 y aparece 2 veces.\n"
     ]
    }
   ],
   "source": [
    "numeros = [4, 2, 6,6]\n",
    "resultado = mas_repetido(numeros)\n",
    "print(f\"El número más repetido es {resultado[0]} y aparece {resultado[1]} veces.\")\n"
   ]
  },
  {
   "attachments": {},
   "cell_type": "markdown",
   "metadata": {},
   "source": [
    "4) Crear una función que convierta entre grados Celsius, Farenheit y Kelvin<br>\n",
    "Fórmula 1\t: (°C × 9/5) + 32 = °F<br>\n",
    "Fórmula 2\t: °C + 273.15 = °K<br>\n",
    "Debe recibir 3 parámetros: el valor, la medida de orígen y la medida de destino\n"
   ]
  },
  {
   "cell_type": "code",
   "execution_count": 14,
   "metadata": {},
   "outputs": [],
   "source": [
    "#SIEMPRE HAY QUE PASAR LOS GRADOS A CELSIUS PARA HACER LAS CONVERSIONES\n",
    "#- Celsius → Fahrenheit: (°C × 9/5) + 32\n",
    "# Celsius → Kelvin: °C + 273.15\n",
    "# Fahrenheit → Celsius: (°F − 32) × 5/9\n",
    "# Kelvin → Celsius: °K − 273.15\n",
    "\n",
    "def convertor_grados(valor,origen,destino):\n",
    "    if origen==\"C\":\n",
    "        celsius=valor\n",
    "    elif origen==\"F\":\n",
    "        celsius=(valor-32)*5/9\n",
    "    elif origen==\"K\":\n",
    "        celsius=valor-273.15    \n",
    "    else:\n",
    "        return \"Unidad de origen no válida\"\n",
    " # Paso 2: Convertimos desde Celsius a la unidad destino\n",
    "    if destino==\"C\":\n",
    "        return celsius\n",
    "    elif destino==\"F\":\n",
    "        return (celsius*9/5)+32\n",
    "    elif destino==\"K\":\n",
    "        return celsius+273.15\n",
    "    else:\n",
    "        return \"Unidad de destino no válida\""
   ]
  },
  {
   "attachments": {},
   "cell_type": "markdown",
   "metadata": {},
   "source": [
    "5) Iterando una lista con los tres valores posibles de temperatura que recibe la función del punto 5, hacer un print para cada combinación de los mismos:"
   ]
  },
  {
   "cell_type": "code",
   "execution_count": 23,
   "metadata": {},
   "outputs": [
    {
     "name": "stdout",
     "output_type": "stream",
     "text": [
      "37.77777777777778\n",
      "273.15\n",
      "76.85000000000002\n"
     ]
    }
   ],
   "source": [
    "print(convertor_grados(100,\"F\",\"C\"))\n",
    "print(convertor_grados(0,\"C\",\"K\"))\n",
    "print(convertor_grados(350,\"K\",\"C\"))"
   ]
  },
  {
   "attachments": {},
   "cell_type": "markdown",
   "metadata": {},
   "source": [
    "6) Armar una función que devuelva el factorial de un número. Tener en cuenta que el usuario puede equivocarse y enviar de parámetro un número no entero o negativo"
   ]
  },
  {
   "cell_type": "code",
   "execution_count": 2,
   "metadata": {},
   "outputs": [],
   "source": [
    "def calculo_factorial(n):\n",
    "    #Validando que sea entero\n",
    "    if not isinstance(n,int):\n",
    "        return \"El numero debe ser un entero\"\n",
    "    #Validando que sea positivo\n",
    "    if n<0:\n",
    "        return \"El numero debe ser positivo\"\n",
    "    #caso especial: 0!=1\n",
    "    if n==0:\n",
    "        return 1\n",
    "    #calculo del factorial\n",
    "    resultado = 1\n",
    "    for i in range(1,n + 1):\n",
    "        resultado*=i\n",
    "    return resultado"
   ]
  },
  {
   "cell_type": "code",
   "execution_count": 3,
   "metadata": {},
   "outputs": [
    {
     "name": "stdout",
     "output_type": "stream",
     "text": [
      "40320\n",
      "3628800\n",
      "6227020800\n"
     ]
    }
   ],
   "source": [
    "print(calculo_factorial(8))\n",
    "print(calculo_factorial(10))\n",
    "print(calculo_factorial(13))"
   ]
  }
 ],
 "metadata": {
  "kernelspec": {
   "display_name": "Python 3",
   "language": "python",
   "name": "python3"
  },
  "language_info": {
   "codemirror_mode": {
    "name": "ipython",
    "version": 3
   },
   "file_extension": ".py",
   "mimetype": "text/x-python",
   "name": "python",
   "nbconvert_exporter": "python",
   "pygments_lexer": "ipython3",
   "version": "3.13.7"
  }
 },
 "nbformat": 4,
 "nbformat_minor": 4
}
